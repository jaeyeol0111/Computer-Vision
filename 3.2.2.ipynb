{
 "cells": [
  {
   "cell_type": "code",
   "execution_count": null,
   "id": "61a76fe0",
   "metadata": {},
   "outputs": [],
   "source": [
    "import cv2 "
   ]
  },
  {
   "cell_type": "code",
   "execution_count": null,
   "id": "f03ffad5",
   "metadata": {},
   "outputs": [],
   "source": [
    "import matplotlib.pyplot as plt"
   ]
  },
  {
   "cell_type": "code",
   "execution_count": null,
   "id": "11b931d5",
   "metadata": {},
   "outputs": [],
   "source": [
    "img = cv2.imread('sample.jpg')"
   ]
  },
  {
   "cell_type": "code",
   "execution_count": null,
   "id": "ed9b3e53",
   "metadata": {},
   "outputs": [],
   "source": [
    "gray = cv2.cvtColor(img,cv2.COLOR_BGR2GRAY)"
   ]
  },
  {
   "cell_type": "code",
   "execution_count": null,
   "id": "594b790f",
   "metadata": {},
   "outputs": [],
   "source": [
    "plt.imshow(gray,cmap='gray'), plt.xticks([]), plt.yticks([]), plt.show()"
   ]
  },
  {
   "cell_type": "code",
   "execution_count": null,
   "id": "52d061bd",
   "metadata": {},
   "outputs": [],
   "source": [
    "h = cv2.calcHist([gray],[0],Nonem[256],[0,256])"
   ]
  },
  {
   "cell_type": "code",
   "execution_count": null,
   "id": "bd02e943",
   "metadata": {},
   "outputs": [],
   "source": [
    "plt.plot(h,color='r',linewidth=1), plt.show()"
   ]
  },
  {
   "cell_type": "code",
   "execution_count": null,
   "id": "c55e5c29",
   "metadata": {},
   "outputs": [],
   "source": [
    "equal=cv2.equalizeHist(gray)"
   ]
  },
  {
   "cell_type": "code",
   "execution_count": null,
   "id": "b9d08e43",
   "metadata": {},
   "outputs": [],
   "source": [
    "plt.imshow(equal,cmap='gary'), plt.xticks([]), plt.yticks([]), plt.show()"
   ]
  },
  {
   "cell_type": "code",
   "execution_count": null,
   "id": "1d9bcfff",
   "metadata": {},
   "outputs": [],
   "source": [
    "h=cv2.calcHist([equal],[0],None,[256],[0,256])"
   ]
  },
  {
   "cell_type": "code",
   "execution_count": null,
   "id": "264fd171",
   "metadata": {},
   "outputs": [],
   "source": [
    "plt.plot(h,color='r',linewidth=1), plt.show()"
   ]
  }
 ],
 "metadata": {
  "kernelspec": {
   "display_name": "Python 3 (ipykernel)",
   "language": "python",
   "name": "python3"
  },
  "language_info": {
   "codemirror_mode": {
    "name": "ipython",
    "version": 3
   },
   "file_extension": ".py",
   "mimetype": "text/x-python",
   "name": "python",
   "nbconvert_exporter": "python",
   "pygments_lexer": "ipython3",
   "version": "3.11.5"
  }
 },
 "nbformat": 4,
 "nbformat_minor": 5
}
