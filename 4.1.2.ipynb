{
 "cells": [
  {
   "cell_type": "code",
   "execution_count": null,
   "id": "2ed7dd21",
   "metadata": {},
   "outputs": [],
   "source": [
    "import cv2"
   ]
  },
  {
   "cell_type": "code",
   "execution_count": null,
   "id": "2978177c",
   "metadata": {},
   "outputs": [],
   "source": [
    "img=cv2.imread('sample.jpg')"
   ]
  },
  {
   "cell_type": "code",
   "execution_count": null,
   "id": "eb892f85",
   "metadata": {},
   "outputs": [],
   "source": [
    "gray = cv2.cvtColor(img,cv2.COLOR_BGR2GRAY)"
   ]
  },
  {
   "cell_type": "code",
   "execution_count": null,
   "id": "c0480f2a",
   "metadata": {},
   "outputs": [],
   "source": [
    "grad_x = cv2.Sobel(gray,cv2.CV_32F,1,0,Ksize=3)"
   ]
  },
  {
   "cell_type": "code",
   "execution_count": null,
   "id": "d6820d8a",
   "metadata": {},
   "outputs": [],
   "source": [
    "grad_y = cv2.Sobel(gray,cv2.CV_32F,1,0,Ksize=3)"
   ]
  },
  {
   "cell_type": "code",
   "execution_count": null,
   "id": "2fa2c46d",
   "metadata": {},
   "outputs": [],
   "source": [
    "sobel_x=cv2.convertScaleAbs(grad_x)"
   ]
  },
  {
   "cell_type": "code",
   "execution_count": null,
   "id": "76b5666c",
   "metadata": {},
   "outputs": [],
   "source": [
    "sobel_y=cv2.convertScaleAbs(grad_y)"
   ]
  },
  {
   "cell_type": "code",
   "execution_count": null,
   "id": "f120c2b9",
   "metadata": {},
   "outputs": [],
   "source": [
    "edge_strength=cv2.addWeighted(sobel_x,0.5,sobel_y,0.5,0)"
   ]
  },
  {
   "cell_type": "code",
   "execution_count": null,
   "id": "e255a5f1",
   "metadata": {},
   "outputs": [],
   "source": [
    "cv2.imshow('Original',gray)"
   ]
  },
  {
   "cell_type": "code",
   "execution_count": null,
   "id": "fa984645",
   "metadata": {},
   "outputs": [],
   "source": [
    "cv2.imshow('sobelx',sobel_x)"
   ]
  },
  {
   "cell_type": "code",
   "execution_count": null,
   "id": "92ad03f7",
   "metadata": {},
   "outputs": [],
   "source": [
    "cv2.imshow('sobely',sobel_y)"
   ]
  },
  {
   "cell_type": "code",
   "execution_count": null,
   "id": "a456a978",
   "metadata": {},
   "outputs": [],
   "source": [
    "cv2.imshow('edge strength',edge_strength)"
   ]
  },
  {
   "cell_type": "code",
   "execution_count": null,
   "id": "5edded9a",
   "metadata": {},
   "outputs": [],
   "source": [
    "cv2.waitKey()"
   ]
  },
  {
   "cell_type": "code",
   "execution_count": null,
   "id": "342d51f3",
   "metadata": {},
   "outputs": [],
   "source": [
    "cv2.destroyAllWindows()"
   ]
  }
 ],
 "metadata": {
  "kernelspec": {
   "display_name": "Python 3 (ipykernel)",
   "language": "python",
   "name": "python3"
  },
  "language_info": {
   "codemirror_mode": {
    "name": "ipython",
    "version": 3
   },
   "file_extension": ".py",
   "mimetype": "text/x-python",
   "name": "python",
   "nbconvert_exporter": "python",
   "pygments_lexer": "ipython3",
   "version": "3.11.5"
  }
 },
 "nbformat": 4,
 "nbformat_minor": 5
}
