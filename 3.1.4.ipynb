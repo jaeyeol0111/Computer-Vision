{
 "cells": [
  {
   "cell_type": "code",
   "execution_count": null,
   "id": "43c51ae0",
   "metadata": {},
   "outputs": [],
   "source": [
    "import cv2"
   ]
  },
  {
   "cell_type": "code",
   "execution_count": null,
   "id": "04784800",
   "metadata": {},
   "outputs": [],
   "source": [
    "import sys"
   ]
  },
  {
   "cell_type": "code",
   "execution_count": null,
   "id": "6084dda4",
   "metadata": {},
   "outputs": [],
   "source": [
    "img = cv2.imread('sample.jpg')"
   ]
  },
  {
   "cell_type": "code",
   "execution_count": null,
   "id": "b8d7dbd8",
   "metadata": {},
   "outputs": [],
   "source": [
    "if img is None:\n",
    "    sys.exit(\"파일을 찾을 수 없습니다.\")"
   ]
  },
  {
   "cell_type": "code",
   "execution_count": null,
   "id": "d66abd4f",
   "metadata": {},
   "outputs": [],
   "source": [
    "cv2.imshow('original_RGB',img)"
   ]
  },
  {
   "cell_type": "code",
   "execution_count": null,
   "id": "37235e29",
   "metadata": {},
   "outputs": [],
   "source": [
    "cv2.imshow('Upper left half',img[0:img.shape[0]//2,0:img.shape[1]//2,:])"
   ]
  },
  {
   "cell_type": "code",
   "execution_count": null,
   "id": "366a79cd",
   "metadata": {},
   "outputs": [],
   "source": [
    "cv2.imshow('Center half'.img[img.shape[0]//4:3*img.shape[0]//4,img.shape[1]//4:3*img.shape[1]//4,:])"
   ]
  },
  {
   "cell_type": "code",
   "execution_count": null,
   "id": "db850a8d",
   "metadata": {},
   "outputs": [],
   "source": [
    "cv2.imshow('R channel',img[:,:,2])"
   ]
  },
  {
   "cell_type": "code",
   "execution_count": null,
   "id": "ba5dee5d",
   "metadata": {},
   "outputs": [],
   "source": [
    "cv2.imshow('G channel',img[:,:,1])"
   ]
  },
  {
   "cell_type": "code",
   "execution_count": null,
   "id": "3f4a215e",
   "metadata": {},
   "outputs": [],
   "source": [
    "cv2.imshow('B channel',img[:,:,0])"
   ]
  },
  {
   "cell_type": "code",
   "execution_count": null,
   "id": "538106a9",
   "metadata": {},
   "outputs": [],
   "source": [
    "cv2.waitKey()"
   ]
  },
  {
   "cell_type": "code",
   "execution_count": null,
   "id": "12aabbae",
   "metadata": {},
   "outputs": [],
   "source": [
    "cv2.destroyAllWindows()"
   ]
  }
 ],
 "metadata": {
  "kernelspec": {
   "display_name": "Python 3 (ipykernel)",
   "language": "python",
   "name": "python3"
  },
  "language_info": {
   "codemirror_mode": {
    "name": "ipython",
    "version": 3
   },
   "file_extension": ".py",
   "mimetype": "text/x-python",
   "name": "python",
   "nbconvert_exporter": "python",
   "pygments_lexer": "ipython3",
   "version": "3.11.5"
  }
 },
 "nbformat": 4,
 "nbformat_minor": 5
}
