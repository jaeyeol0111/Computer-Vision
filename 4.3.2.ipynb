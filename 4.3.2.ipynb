{
 "cells": [
  {
   "cell_type": "code",
   "execution_count": null,
   "id": "73016826",
   "metadata": {},
   "outputs": [],
   "source": [
    "import cv2"
   ]
  },
  {
   "cell_type": "code",
   "execution_count": null,
   "id": "b6b52678",
   "metadata": {},
   "outputs": [],
   "source": [
    "img = cv2.imread('sample.jpg')"
   ]
  },
  {
   "cell_type": "code",
   "execution_count": null,
   "id": "da53bcc0",
   "metadata": {},
   "outputs": [],
   "source": [
    "gray = cv2.cvtColor(img,cv2.COLOR_BGR2GRAY)"
   ]
  },
  {
   "cell_type": "code",
   "execution_count": null,
   "id": "44f71a05",
   "metadata": {},
   "outputs": [],
   "source": [
    "apples = cv2.HoughCircles(gray,cv2.HOUGH_GRADIENT,1,200, param1=150, param2=20,\n",
    "                         minRadius=50, masRadius=120)"
   ]
  },
  {
   "cell_type": "code",
   "execution_count": null,
   "id": "5004c3e5",
   "metadata": {},
   "outputs": [],
   "source": [
    "for i in apples[0]:\n",
    "    cv2.circle(img,(int(i[0]),int(i[1])),int(i[2]),(255,0,0),2)"
   ]
  },
  {
   "cell_type": "code",
   "execution_count": null,
   "id": "f9c07eee",
   "metadata": {},
   "outputs": [],
   "source": [
    "cv2.imshow(\"Apple detection\", img)"
   ]
  },
  {
   "cell_type": "code",
   "execution_count": null,
   "id": "d3a2db7a",
   "metadata": {},
   "outputs": [],
   "source": [
    "cv2.waitKey()"
   ]
  },
  {
   "cell_type": "code",
   "execution_count": null,
   "id": "5b6c9950",
   "metadata": {},
   "outputs": [],
   "source": [
    "cv2.destroyAllWindows()"
   ]
  }
 ],
 "metadata": {
  "kernelspec": {
   "display_name": "Python 3 (ipykernel)",
   "language": "python",
   "name": "python3"
  },
  "language_info": {
   "codemirror_mode": {
    "name": "ipython",
    "version": 3
   },
   "file_extension": ".py",
   "mimetype": "text/x-python",
   "name": "python",
   "nbconvert_exporter": "python",
   "pygments_lexer": "ipython3",
   "version": "3.11.5"
  }
 },
 "nbformat": 4,
 "nbformat_minor": 5
}
