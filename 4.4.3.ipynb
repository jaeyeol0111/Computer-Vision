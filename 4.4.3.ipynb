{
 "cells": [
  {
   "cell_type": "code",
   "execution_count": 7,
   "id": "4607c1a6",
   "metadata": {},
   "outputs": [],
   "source": [
    "import numpy as np"
   ]
  },
  {
   "cell_type": "code",
   "execution_count": 8,
   "id": "fa08689f",
   "metadata": {},
   "outputs": [],
   "source": [
    "import skimage"
   ]
  },
  {
   "cell_type": "code",
   "execution_count": 9,
   "id": "e583c895",
   "metadata": {},
   "outputs": [
    {
     "ename": "ModuleNotFoundError",
     "evalue": "No module named 'cv2'",
     "output_type": "error",
     "traceback": [
      "\u001b[1;31m---------------------------------------------------------------------------\u001b[0m",
      "\u001b[1;31mModuleNotFoundError\u001b[0m                       Traceback (most recent call last)",
      "Cell \u001b[1;32mIn[9], line 1\u001b[0m\n\u001b[1;32m----> 1\u001b[0m \u001b[38;5;28;01mimport\u001b[39;00m \u001b[38;5;21;01mcv2\u001b[39;00m \u001b[38;5;28;01mas\u001b[39;00m \u001b[38;5;21;01mcv\u001b[39;00m\n",
      "\u001b[1;31mModuleNotFoundError\u001b[0m: No module named 'cv2'"
     ]
    }
   ],
   "source": [
    "import cv2"
   ]
  },
  {
   "cell_type": "code",
   "execution_count": 10,
   "id": "fc05a90e",
   "metadata": {},
   "outputs": [],
   "source": [
    "import time"
   ]
  },
  {
   "cell_type": "code",
   "execution_count": null,
   "id": "80c9c14d",
   "metadata": {},
   "outputs": [],
   "source": [
    "coffee = skimage.data.coffee()"
   ]
  },
  {
   "cell_type": "code",
   "execution_count": null,
   "id": "5dd36438",
   "metadata": {},
   "outputs": [],
   "source": [
    "start = time.time()"
   ]
  },
  {
   "cell_type": "code",
   "execution_count": null,
   "id": "63e83053",
   "metadata": {},
   "outputs": [],
   "source": [
    "slic = skimage.segmentation.slic(coffee,compactness=20,n_segments=600,\n",
    "                                 start_label=1)"
   ]
  },
  {
   "cell_type": "code",
   "execution_count": null,
   "id": "68cd7ec9",
   "metadata": {},
   "outputs": [],
   "source": [
    "g = skimage.future.graph.rag_mean_color(coffee,slic,mode='similarity')"
   ]
  },
  {
   "cell_type": "code",
   "execution_count": null,
   "id": "c6a3a913",
   "metadata": {},
   "outputs": [],
   "source": [
    "ncut = skimage.future.graph.cut_normalized(slicm,g)"
   ]
  },
  {
   "cell_type": "code",
   "execution_count": null,
   "id": "0dca2f34",
   "metadata": {},
   "outputs": [],
   "source": [
    "print(coffee.shape,'커피 영상을 분할하는 데 ',time.time()-start,'초 소요')"
   ]
  },
  {
   "cell_type": "code",
   "execution_count": null,
   "id": "7e723071",
   "metadata": {},
   "outputs": [],
   "source": [
    "marking=skimage.segmentation.mark_boundaries(coffee,ncut)"
   ]
  },
  {
   "cell_type": "code",
   "execution_count": null,
   "id": "f5584031",
   "metadata": {},
   "outputs": [],
   "source": [
    "ncut_coffee=np.uint8(marking*255.0)"
   ]
  },
  {
   "cell_type": "code",
   "execution_count": null,
   "id": "a68f4f93",
   "metadata": {},
   "outputs": [],
   "source": [
    "cv2.imshow('Normalized cut',cv2.cvtColor(ncut_coffee,cv2.COLOR_RGB2BGR))"
   ]
  },
  {
   "cell_type": "code",
   "execution_count": null,
   "id": "f3a8f171",
   "metadata": {},
   "outputs": [],
   "source": [
    "cv2.waitKey()"
   ]
  },
  {
   "cell_type": "code",
   "execution_count": null,
   "id": "42b7ff39",
   "metadata": {},
   "outputs": [],
   "source": [
    "cv2.destriyAllWindows()"
   ]
  }
 ],
 "metadata": {
  "kernelspec": {
   "display_name": "Python 3 (ipykernel)",
   "language": "python",
   "name": "python3"
  },
  "language_info": {
   "codemirror_mode": {
    "name": "ipython",
    "version": 3
   },
   "file_extension": ".py",
   "mimetype": "text/x-python",
   "name": "python",
   "nbconvert_exporter": "python",
   "pygments_lexer": "ipython3",
   "version": "3.11.5"
  }
 },
 "nbformat": 4,
 "nbformat_minor": 5
}
