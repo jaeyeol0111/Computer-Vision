{
 "cells": [
  {
   "cell_type": "code",
   "execution_count": 2,
   "id": "ddfc563c",
   "metadata": {},
   "outputs": [
    {
     "ename": "ModuleNotFoundError",
     "evalue": "No module named 'cv'",
     "output_type": "error",
     "traceback": [
      "\u001b[1;31m---------------------------------------------------------------------------\u001b[0m",
      "\u001b[1;31mModuleNotFoundError\u001b[0m                       Traceback (most recent call last)",
      "Cell \u001b[1;32mIn[2], line 1\u001b[0m\n\u001b[1;32m----> 1\u001b[0m \u001b[38;5;28;01mimport\u001b[39;00m \u001b[38;5;21;01mcv\u001b[39;00m\n",
      "\u001b[1;31mModuleNotFoundError\u001b[0m: No module named 'cv'"
     ]
    }
   ],
   "source": [
    "import cv2"
   ]
  },
  {
   "cell_type": "code",
   "execution_count": null,
   "id": "0be12663",
   "metadata": {},
   "outputs": [],
   "source": [
    "import numpy as np"
   ]
  },
  {
   "cell_type": "code",
   "execution_count": null,
   "id": "035b5fbe",
   "metadata": {},
   "outputs": [],
   "source": [
    "import matplotlib.pyplot as plt"
   ]
  },
  {
   "cell_type": "code",
   "execution_count": null,
   "id": "5bbb23d0",
   "metadata": {},
   "outputs": [],
   "source": [
    "img = cv2.imread ('sample.png',cv.IMREAD_UNCHANGED)"
   ]
  },
  {
   "cell_type": "code",
   "execution_count": null,
   "id": "62c1b02c",
   "metadata": {},
   "outputs": [],
   "source": [
    "t,bin_img = cv2.threshold(img[:,:,3],0,255,cv2.THRESH_BINARY+cv2.THRESG_OTSU)"
   ]
  },
  {
   "cell_type": "code",
   "execution_count": null,
   "id": "78ff46f2",
   "metadata": {},
   "outputs": [],
   "source": [
    "plt.imshow(bin_img,cmap='gray'), plt.xticks([]), plt.yticks([])"
   ]
  },
  {
   "cell_type": "code",
   "execution_count": null,
   "id": "07ad17ff",
   "metadata": {},
   "outputs": [],
   "source": [
    "plt.show"
   ]
  },
  {
   "cell_type": "code",
   "execution_count": null,
   "id": "4dd51ef8",
   "metadata": {},
   "outputs": [],
   "source": [
    "b=bin_img[bin_img.shape[0]//2:bin_img.shape[0],0:bin_img.shape[0]//2+1]"
   ]
  },
  {
   "cell_type": "code",
   "execution_count": null,
   "id": "5d1eff26",
   "metadata": {},
   "outputs": [],
   "source": [
    "plt.imshow(b,cmap='gray'), plt.xticks([]), plt.yticks([])"
   ]
  },
  {
   "cell_type": "code",
   "execution_count": null,
   "id": "804aee5d",
   "metadata": {},
   "outputs": [],
   "source": [
    "plt.show"
   ]
  },
  {
   "cell_type": "code",
   "execution_count": null,
   "id": "3fe400e8",
   "metadata": {},
   "outputs": [],
   "source": [
    "se=np.uint8([[0,0,1,0,0],\n",
    "             [0,1,1,1,0],\n",
    "             [1,1,1,1,1],\n",
    "             [0,1,1,1,0],\n",
    "             [0,0,1,0,0]])"
   ]
  },
  {
   "cell_type": "code",
   "execution_count": null,
   "id": "01971e3e",
   "metadata": {},
   "outputs": [],
   "source": [
    "b_dilation=cv2.dilate(b,se,iterations=1)"
   ]
  },
  {
   "cell_type": "code",
   "execution_count": null,
   "id": "ada7b2f7",
   "metadata": {},
   "outputs": [],
   "source": [
    "plt.imshow(b_dilation,cmap='gray'),plt.xticks([]),plt.yticks([])"
   ]
  },
  {
   "cell_type": "code",
   "execution_count": null,
   "id": "2f4b561f",
   "metadata": {},
   "outputs": [],
   "source": [
    "plt.show()"
   ]
  },
  {
   "cell_type": "code",
   "execution_count": null,
   "id": "9cbd5326",
   "metadata": {},
   "outputs": [],
   "source": [
    "b_erosion=cv2.erode(b,se,iterations=1)"
   ]
  },
  {
   "cell_type": "code",
   "execution_count": null,
   "id": "61403104",
   "metadata": {},
   "outputs": [],
   "source": [
    "plt.imshow(b_dilation,cmap='gray'),plt.xticks([]),plt.yticks([])"
   ]
  },
  {
   "cell_type": "code",
   "execution_count": null,
   "id": "503ce00d",
   "metadata": {},
   "outputs": [],
   "source": [
    "plt.show()"
   ]
  },
  {
   "cell_type": "code",
   "execution_count": null,
   "id": "676d3956",
   "metadata": {},
   "outputs": [],
   "source": [
    "b_erosion=cv2.erode(b,se,iterations=1)"
   ]
  },
  {
   "cell_type": "code",
   "execution_count": null,
   "id": "31ad7fad",
   "metadata": {},
   "outputs": [],
   "source": [
    "plt.imshow(b_erosion,cmap), plt.xticks([]), plt.yticks([])"
   ]
  },
  {
   "cell_type": "code",
   "execution_count": null,
   "id": "a1383999",
   "metadata": {},
   "outputs": [],
   "source": [
    "plt.show()"
   ]
  },
  {
   "cell_type": "code",
   "execution_count": null,
   "id": "0732eda9",
   "metadata": {},
   "outputs": [],
   "source": [
    "b_closing=cv2.erode(cv2.dilate(b,se,iterations=1),se,iterations=1)"
   ]
  },
  {
   "cell_type": "code",
   "execution_count": null,
   "id": "ccc5a1ee",
   "metadata": {},
   "outputs": [],
   "source": [
    "plt.imshow(b_closing,cmap='gray'), plt.xticks([]), plt.yticks({})"
   ]
  },
  {
   "cell_type": "code",
   "execution_count": null,
   "id": "ecac54cf",
   "metadata": {},
   "outputs": [],
   "source": [
    "plt.show()"
   ]
  }
 ],
 "metadata": {
  "kernelspec": {
   "display_name": "Python 3 (ipykernel)",
   "language": "python",
   "name": "python3"
  },
  "language_info": {
   "codemirror_mode": {
    "name": "ipython",
    "version": 3
   },
   "file_extension": ".py",
   "mimetype": "text/x-python",
   "name": "python",
   "nbconvert_exporter": "python",
   "pygments_lexer": "ipython3",
   "version": "3.11.5"
  }
 },
 "nbformat": 4,
 "nbformat_minor": 5
}
